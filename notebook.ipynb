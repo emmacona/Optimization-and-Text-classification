{
 "cells": [
  {
   "cell_type": "code",
   "execution_count": 8,
   "metadata": {},
   "outputs": [],
   "source": [
    "# Imports\n",
    "import numpy as np\n",
    "import pandas as pd\n",
    "import sklearn\n",
    "#%matplotlib notebook\n",
    "%matplotlib inline\n",
    "import matplotlib.pyplot as plt\n",
    "from sklearn.linear_model import LogisticRegression\n",
    "from sklearn.model_selection import cross_validate\n",
    "from sklearn.feature_extraction.text import TfidfTransformer\n",
    "\n",
    "# Run Logistic Regression\n",
    "#(Find a learning rate and a number of training iterations such that the\n",
    "# model has fully converged to a solution)\n",
    "\n",
    "diabetes_names = ['Pregnancies', 'Glucose', 'BloodPressure', 'SkinThickness', 'Insulin', 'BMI', 'DiabetesPedigreeFunction', 'Age', 'Outcome']\n",
    "diabetes_test = pd.read_csv('./data_A2/diabetes/diabetes_test.csv', index_col=False, sep=',', engine='python')\n",
    "diabetes_train = pd.read_csv('./data_A2/diabetes/diabetes_train.csv', index_col=False, sep=',', engine='python')\n",
    "diabetes_val = pd.read_csv('./data_A2/diabetes/diabetes_val.csv', index_col=False, sep=',', engine='python')"
   ]
  },
  {
   "cell_type": "code",
   "execution_count": 10,
   "metadata": {},
   "outputs": [
    {
     "name": "stderr",
     "output_type": "stream",
     "text": [
      "/var/folders/jx/y0pzll5x2hsc8kpymwzr1vz00000gr/T/ipykernel_25273/1069342386.py:2: RuntimeWarning: overflow encountered in exp\n",
      "  logistic = lambda z: 1./ (1 + np.exp(-z))\n"
     ]
    },
    {
     "data": {
      "image/png": "[encoded data removed]",
      "text/plain": [
       "<Figure size 432x288 with 1 Axes>"
      ]
     },
     "metadata": {
      "needs_background": "light"
     },
     "output_type": "display_data"
    }
   ],
   "source": [
    "# Given implementations\n",
    "logistic = lambda z: 1./ (1 + np.exp(-z))   \n",
    "def gradient(self, x, y):\n",
    "    N,D = x.shape\n",
    "    yh = logistic(np.dot(x, self.w))    # predictions  size N\n",
    "    grad = np.dot(x.T, yh - y)/N        # divide by N because cost is mean over N points\n",
    "    return grad                         # size D\n",
    "\n",
    "class LogisticRegression:\n",
    "    \n",
    "    def __init__(self, add_bias=True, learning_rate=.1, epsilon=1e-4, max_iters=1e5, verbose=False):\n",
    "        self.add_bias = add_bias\n",
    "        self.learning_rate = learning_rate\n",
    "        self.epsilon = epsilon                        #to get the tolerance for the norm of gradients \n",
    "        self.max_iters = max_iters                    #maximum number of iteration of gradient descent\n",
    "        self.verbose = verbose\n",
    "        \n",
    "    def fit(self, x, y):\n",
    "        if x.ndim == 1:\n",
    "            x = x[:, None]\n",
    "        if self.add_bias:\n",
    "            N = x.shape[0]\n",
    "            x = np.column_stack([x,np.ones(N)])\n",
    "        N,D = x.shape\n",
    "        self.w = np.zeros(D)\n",
    "        g = np.inf \n",
    "        t = 0\n",
    "        # the code snippet below is for gradient descent\n",
    "        while np.linalg.norm(g) > self.epsilon and t < self.max_iters:\n",
    "            g = self.gradient(x, y)\n",
    "            self.w = self.w - self.learning_rate * g \n",
    "            t += 1\n",
    "        \n",
    "        if self.verbose:\n",
    "            print(f'terminated after {t} iterations, with norm of the gradient equal to {np.linalg.norm(g)}')\n",
    "            print(f'the weight found: {self.w}')\n",
    "        return self\n",
    "    \n",
    "    def predict(self, x):\n",
    "        if x.ndim == 1:\n",
    "            x = x[:, None]\n",
    "        Nt = x.shape[0]\n",
    "        if self.add_bias:\n",
    "            x = np.column_stack([x,np.ones(Nt)])\n",
    "        yh = logistic(np.dot(x,self.w))            #predict output\n",
    "        return yh\n",
    "\n",
    "LogisticRegression.gradient = gradient    \n",
    "\n",
    "x, y = diabetes_train.iloc[:,:-1].to_numpy(), diabetes_train.iloc[:,-1].to_numpy()\n",
    "\n",
    "model = LogisticRegression()\n",
    "\n",
    "yh = model.fit(x,y).predict(x)\n",
    "\n",
    "n = list(range(0, 600))\n",
    "plt.plot(n, y, '.', label='dataset')\n",
    "plt.plot(n, yh, 'g', alpha=.5, label='predictions')\n",
    "plt.xlabel('x')\n",
    "plt.ylabel(r'$y$')\n",
    "plt.legend()\n",
    "plt.show()"
   ]
  }
 ],
 "metadata": {
  "interpreter": {
   "hash": "aee8b7b246df8f9039afb4144a1f6fd8d2ca17a180786b69acc140d282b71a49"
  },
  "kernelspec": {
   "display_name": "Python 3.9.7 64-bit",
   "name": "python3"
  },
  "language_info": {
   "codemirror_mode": {
    "name": "ipython",
    "version": 3
   },
   "file_extension": ".py",
   "mimetype": "text/x-python",
   "name": "python",
   "nbconvert_exporter": "python",
   "pygments_lexer": "ipython3",
   "version": "3.9.7"
  },
  "orig_nbformat": 4
 },
 "nbformat": 4,
 "nbformat_minor": 2
}
