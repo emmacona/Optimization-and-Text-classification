{
 "cells": [
  {
   "cell_type": "code",
   "execution_count": null,
   "source": [
    "logReg = LogisticRegression(solver='newton-cg',  max_iter=1000, multi_class = 'multinomial', tol=1e-5, n_jobs=-1)\n",
    "logReg2 = LogisticRegression(solver='lbfgs',  max_iter=1000, multi_class = 'multinomial', tol=1e-5, n_jobs=-1)\n",
    "logReg3 = LogisticRegression(solver='sag',  max_iter=1000, multi_class = 'multinomial', tol=1e-5, n_jobs=-1)\n",
    "logReg4 = LogisticRegression(solver='saga',  max_iter=1000, multi_class = 'multinomial', tol=1e-5, n_jobs=-1)\n",
    "\n",
    "cv_resultsv = cross_validate(logReg, x, y, cv=10, n_jobs=-1)\n",
    "cv_resultsv2 = cross_validate(logReg2, x, y, cv=10, n_jobs=-1)\n",
    "cv_resultsv3 = cross_validate(logReg3, x, y, cv=10, n_jobs=-1)\n",
    "cv_resultsv4 = cross_validate(logReg4, x, y, cv=10, n_jobs=-1)\n",
    "\n",
    "maxLog1 = np.mean(cv_resultsv['test_score'])\n",
    "maxLog2 = np.mean(cv_resultsv2['test_score'])\n",
    "maxLog3 = np.mean(cv_resultsv3['test_score'])\n",
    "maxLog4 = np.mean(cv_resultsv4['test_score'])\n",
    "\n",
    "plt.bar([1, 2, 3, 4], [maxLog1, maxLog2, maxLog3, maxLog4])\n",
    "plt.xlabel('Logistic Regression Solvers')\n",
    "plt.ylabel('Cross-validation Accuracy')\n",
    "plt.xticks([1, 2, 3, 4], ['newton-cg', 'lbfgs', 'sag', 'saga'], rotation = 30)\n",
    "plt.ylim(0.5483, 0.5484)\n",
    "plt.show()"
   ],
   "outputs": [],
   "metadata": {}
  }
 ],
 "metadata": {
  "orig_nbformat": 4,
  "language_info": {
   "name": "python"
  }
 },
 "nbformat": 4,
 "nbformat_minor": 2
}